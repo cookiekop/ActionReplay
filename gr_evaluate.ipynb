{
 "cells": [
  {
   "cell_type": "code",
   "execution_count": 1,
   "metadata": {},
   "outputs": [
    {
     "name": "stdout",
     "output_type": "stream",
     "text": [
      "Train size:  54000\n"
     ]
    }
   ],
   "source": [
    "# prepare data\n",
    "from data_utils import get_data, session_num\n",
    "dataset_used = 'MNIST' #'CIFAR10' #'FashionMNIST' #'MNIST', 'MPII', 'UTD'\n",
    "train_data_loader, val_data_loader, __ = get_data(dataset_used, 1)"
   ]
  },
  {
   "cell_type": "code",
   "execution_count": 2,
   "metadata": {},
   "outputs": [],
   "source": [
    "# load vae model\n",
    "from vae import MNIST_VAE\n",
    "import matplotlib.pyplot as plt\n",
    "import torch \n",
    "\n",
    "device = 'cuda'\n",
    "vae_model = MNIST_VAE(latent_dim=128).to(device)\n",
    "vae_model_name = 'gr_vae_' + dataset_used + '_' + str(session_num)\n",
    "vae_model.load_state_dict(torch.load('models/'+vae_model_name+'.pth'))\n",
    "vae_model.eval();"
   ]
  },
  {
   "cell_type": "code",
   "execution_count": 3,
   "metadata": {},
   "outputs": [
    {
     "data": {
      "image/png": "[encoded data removed]",
      "text/plain": [
       "<Figure size 432x288 with 1 Axes>"
      ]
     },
     "metadata": {
      "needs_background": "light"
     },
     "output_type": "display_data"
    }
   ],
   "source": [
    "# random sample from latent space\n",
    "\n",
    "sample = vae_model.sample(sample_num=5)[0].permute(1, 2, 0)\n",
    "plt.imshow(sample.cpu().detach().numpy(), cmap='gray')\n",
    "plt.show()"
   ]
  },
  {
   "cell_type": "code",
   "execution_count": 4,
   "metadata": {},
   "outputs": [],
   "source": [
    "# load main model\n",
    "from classifier import Classifier\n",
    "\n",
    "main_model = Classifier(n_class=10).to(device)\n",
    "main_model_name = 'gr_classifier'+'_'+dataset_used+'_'+str(session_num)\n",
    "main_model.load_state_dict(torch.load('models/'+main_model_name+'.pth'))\n",
    "main_model.eval();"
   ]
  },
  {
   "cell_type": "code",
   "execution_count": 5,
   "metadata": {},
   "outputs": [
    {
     "name": "stdout",
     "output_type": "stream",
     "text": [
      "Accuracy: 0.5268839526676354\n"
     ]
    }
   ],
   "source": [
    "correct_num = 0\n",
    "val_num = 0\n",
    "for batch in val_data_loader:\n",
    "    if batch[0] is None:\n",
    "        continue\n",
    "    if dataset_used in ['MNIST', 'UTD', 'FashionMNIST', 'CIFAR10']:\n",
    "        img, label = batch[0].to(device), batch[1].to(device)\n",
    "#     elif dataset_used == 'MPII':\n",
    "#         img = batch['image'].to(device)\n",
    "        \n",
    "    pred = main_model(img)\n",
    "    correct_num += label.item() == torch.argmax(pred).item()\n",
    "    val_num += 1\n",
    "print('Accuracy: {}'.format(correct_num/val_num))"
   ]
  },
  {
   "cell_type": "code",
   "execution_count": null,
   "metadata": {},
   "outputs": [],
   "source": []
  }
 ],
 "metadata": {
  "kernelspec": {
   "display_name": "Python 3",
   "language": "python",
   "name": "python3"
  },
  "language_info": {
   "codemirror_mode": {
    "name": "ipython",
    "version": 3
   },
   "file_extension": ".py",
   "mimetype": "text/x-python",
   "name": "python",
   "nbconvert_exporter": "python",
   "pygments_lexer": "ipython3",
   "version": "3.7.9"
  }
 },
 "nbformat": 4,
 "nbformat_minor": 1
}
